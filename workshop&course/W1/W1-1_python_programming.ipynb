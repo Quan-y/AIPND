{
 "cells": [
  {
   "cell_type": "markdown",
   "metadata": {},
   "source": [
    "# W1: Python Programming Foundation"
   ]
  },
  {
   "cell_type": "markdown",
   "metadata": {
    "slideshow": {
     "slide_type": "-"
    }
   },
   "source": [
    "## Jupyter Notebook\n",
    "\n",
    "#### [1] 基本命令\n",
    "* Esc + H\n",
    "* Shift + Enter, Ctrl + Enter\n",
    "* Esc + B, Esc + A\n",
    "* Esc + Y, Esc + M, Esc + R\n",
    "* Esc + L\n",
    "* Esc + D + D, Esc + Z\n",
    "* Shift + M\n",
    "\n",
    "#### [2] 进阶操作\n",
    "* Latex\n",
    "* HTML\n",
    "* Slides\n",
    "* Magic \n",
    "\n",
    "#### APPENDIX\n",
    "* Slides: <code>jupyter nbconvert notebook.ipynb --to slides --post serve</code>  \n",
    "* Magic: `http://ipython.readthedocs.io/en/stable/interactive/magics.html`  \n",
    "* Markdown: `https://github.com/adam-p/markdown-here/wiki/Markdown-Cheatsheet`\n",
    "\n",
    "#### 常用Magic命令\n",
    "* `magic code + ?`  \n",
    "* `\n",
    "cd ..\n",
    "import os\n",
    "os.getcwd()\n",
    "`\n",
    "* `\n",
    "%time\n",
    "%%time\n",
    "%timeit(fun(x))\n",
    "time module\n",
    "`"
   ]
  },
  {
   "cell_type": "markdown",
   "metadata": {},
   "source": [
    "* cd注解"
   ]
  },
  {
   "cell_type": "code",
   "execution_count": 74,
   "metadata": {},
   "outputs": [
    {
     "name": "stdout",
     "output_type": "stream",
     "text": [
      "F:\\Udacity\\AIPND\\formal\\Github\\AIPND\n"
     ]
    }
   ],
   "source": [
    "cd ..\n",
    "import os\n",
    "os.getcwd()"
   ]
  },
  {
   "cell_type": "markdown",
   "metadata": {},
   "source": [
    "* 如何使用帮助"
   ]
  },
  {
   "cell_type": "code",
   "execution_count": 168,
   "metadata": {
    "collapsed": true
   },
   "outputs": [
    {
     "name": "stdout",
     "output_type": "stream",
     "text": [
      "Help on class list in module builtins:\n",
      "\n",
      "class list(object)\n",
      " |  list() -> new empty list\n",
      " |  list(iterable) -> new list initialized from iterable's items\n",
      " |  \n",
      " |  Methods defined here:\n",
      " |  \n",
      " |  __add__(self, value, /)\n",
      " |      Return self+value.\n",
      " |  \n",
      " |  __contains__(self, key, /)\n",
      " |      Return key in self.\n",
      " |  \n",
      " |  __delitem__(self, key, /)\n",
      " |      Delete self[key].\n",
      " |  \n",
      " |  __eq__(self, value, /)\n",
      " |      Return self==value.\n",
      " |  \n",
      " |  __ge__(self, value, /)\n",
      " |      Return self>=value.\n",
      " |  \n",
      " |  __getattribute__(self, name, /)\n",
      " |      Return getattr(self, name).\n",
      " |  \n",
      " |  __getitem__(...)\n",
      " |      x.__getitem__(y) <==> x[y]\n",
      " |  \n",
      " |  __gt__(self, value, /)\n",
      " |      Return self>value.\n",
      " |  \n",
      " |  __iadd__(self, value, /)\n",
      " |      Implement self+=value.\n",
      " |  \n",
      " |  __imul__(self, value, /)\n",
      " |      Implement self*=value.\n",
      " |  \n",
      " |  __init__(self, /, *args, **kwargs)\n",
      " |      Initialize self.  See help(type(self)) for accurate signature.\n",
      " |  \n",
      " |  __iter__(self, /)\n",
      " |      Implement iter(self).\n",
      " |  \n",
      " |  __le__(self, value, /)\n",
      " |      Return self<=value.\n",
      " |  \n",
      " |  __len__(self, /)\n",
      " |      Return len(self).\n",
      " |  \n",
      " |  __lt__(self, value, /)\n",
      " |      Return self<value.\n",
      " |  \n",
      " |  __mul__(self, value, /)\n",
      " |      Return self*value.n\n",
      " |  \n",
      " |  __ne__(self, value, /)\n",
      " |      Return self!=value.\n",
      " |  \n",
      " |  __new__(*args, **kwargs) from builtins.type\n",
      " |      Create and return a new object.  See help(type) for accurate signature.\n",
      " |  \n",
      " |  __repr__(self, /)\n",
      " |      Return repr(self).\n",
      " |  \n",
      " |  __reversed__(...)\n",
      " |      L.__reversed__() -- return a reverse iterator over the list\n",
      " |  \n",
      " |  __rmul__(self, value, /)\n",
      " |      Return self*value.\n",
      " |  \n",
      " |  __setitem__(self, key, value, /)\n",
      " |      Set self[key] to value.\n",
      " |  \n",
      " |  __sizeof__(...)\n",
      " |      L.__sizeof__() -- size of L in memory, in bytes\n",
      " |  \n",
      " |  append(...)\n",
      " |      L.append(object) -> None -- append object to end\n",
      " |  \n",
      " |  clear(...)\n",
      " |      L.clear() -> None -- remove all items from L\n",
      " |  \n",
      " |  copy(...)\n",
      " |      L.copy() -> list -- a shallow copy of L\n",
      " |  \n",
      " |  count(...)\n",
      " |      L.count(value) -> integer -- return number of occurrences of value\n",
      " |  \n",
      " |  extend(...)\n",
      " |      L.extend(iterable) -> None -- extend list by appending elements from the iterable\n",
      " |  \n",
      " |  index(...)\n",
      " |      L.index(value, [start, [stop]]) -> integer -- return first index of value.\n",
      " |      Raises ValueError if the value is not present.\n",
      " |  \n",
      " |  insert(...)\n",
      " |      L.insert(index, object) -- insert object before index\n",
      " |  \n",
      " |  pop(...)\n",
      " |      L.pop([index]) -> item -- remove and return item at index (default last).\n",
      " |      Raises IndexError if list is empty or index is out of range.\n",
      " |  \n",
      " |  remove(...)\n",
      " |      L.remove(value) -> None -- remove first occurrence of value.\n",
      " |      Raises ValueError if the value is not present.\n",
      " |  \n",
      " |  reverse(...)\n",
      " |      L.reverse() -- reverse *IN PLACE*\n",
      " |  \n",
      " |  sort(...)\n",
      " |      L.sort(key=None, reverse=False) -> None -- stable sort *IN PLACE*\n",
      " |  \n",
      " |  ----------------------------------------------------------------------\n",
      " |  Data and other attributes defined here:\n",
      " |  \n",
      " |  __hash__ = None\n",
      "\n"
     ]
    },
    {
     "data": {
      "text/plain": [
       "\"list() -> new empty list\\nlist(iterable) -> new list initialized from iterable's items\""
      ]
     },
     "execution_count": 168,
     "metadata": {},
     "output_type": "execute_result"
    }
   ],
   "source": [
    "# method 1\n",
    "help(list)\n",
    "# method 2\n",
    "list?\n",
    "# method 3\n",
    "list.__doc__"
   ]
  },
  {
   "cell_type": "markdown",
   "metadata": {},
   "source": [
    "#### Notes for %time, %%time, %timeit, itme module"
   ]
  },
  {
   "cell_type": "code",
   "execution_count": 139,
   "metadata": {
    "scrolled": true
   },
   "outputs": [
    {
     "name": "stdout",
     "output_type": "stream",
     "text": [
      "Wall time: 15.6 ms\n"
     ]
    }
   ],
   "source": [
    "# %time\n",
    "%time a = list(map(lambda x: x**2, range(10000)))"
   ]
  },
  {
   "cell_type": "code",
   "execution_count": 142,
   "metadata": {},
   "outputs": [
    {
     "name": "stdout",
     "output_type": "stream",
     "text": [
      "Wall time: 31.6 ms\n"
     ]
    }
   ],
   "source": [
    "%%time\n",
    "# %%time\n",
    "a = list(map(lambda x: x**2, range(10000)))\n",
    "b = list(map(lambda x: x**3, range(10000)))"
   ]
  },
  {
   "cell_type": "code",
   "execution_count": 155,
   "metadata": {},
   "outputs": [
    {
     "name": "stdout",
     "output_type": "stream",
     "text": [
      "372 ns ± 2.2 ns per loop (mean ± std. dev. of 7 runs, 1000000 loops each)\n"
     ]
    }
   ],
   "source": [
    "# %timeit\n",
    "def fun(*x):\n",
    "    return map(lambda m: m**2, x)\n",
    "%timeit(fun(2, 3, 4, 5))"
   ]
  },
  {
   "cell_type": "code",
   "execution_count": 158,
   "metadata": {},
   "outputs": [
    {
     "name": "stdout",
     "output_type": "stream",
     "text": [
      "4.358048439025879e-07 s\n"
     ]
    }
   ],
   "source": [
    "import time\n",
    "startT = time.time()\n",
    "for i in range(1000000):\n",
    "    fun(2, 3, 4, 5)\n",
    "endT = time.time()\n",
    "print((endT - startT)/1000000, 's')"
   ]
  },
  {
   "cell_type": "markdown",
   "metadata": {},
   "source": [
    "## Python Programming\n"
   ]
  },
  {
   "cell_type": "markdown",
   "metadata": {},
   "source": [
    "#### [1] 基本数据类型与运算符\n",
    "* int, float, bool, string, list, tuple, dict, set\n",
    "* $+, -, \\times, /, //, \\%, x^2$\n",
    "* $==, !=, >, <, >=, <=$\n",
    "* $=, +=, -=, *=, /=, \\%=, **=, //=$\n",
    "* &, |, ^, ~, bin, ord  \n",
    "`0^0=0; 0^1=1; 1^0=1; 1^1=0`  \n",
    "`0|0=0; 0|1=1; 1|0=1; 1|1=1`  \n",
    "* and, or, not\n",
    "* in, not in\n",
    "* is, is not\n",
    "* print(str.format)  \n",
    "`\n",
    "print(\"{0:-<10}\".format(\"a\"))\n",
    "print(\"{0:-^10}\".format(\"a\"))\n",
    "print(\"{0:->10}\".format(\"a\"))\n",
    "`\n",
    "* int()\n",
    "* type\n",
    "* eval, exec\n",
    "\n",
    "#### [2] Python控制流\n",
    "* if, filter\n",
    "* for, map\n",
    "* while\n",
    "* try except finally\n",
    "* zip, enumerate\n",
    "* reduce\n",
    "\n",
    "#### [3] Python函数式编程\n",
    "* 简单函数编写\n",
    "* 调用函数\n",
    "* 局部变量和全局变量\n",
    "* 收集参数\n",
    "* lambda\n",
    "* partial"
   ]
  },
  {
   "cell_type": "markdown",
   "metadata": {},
   "source": [
    "* reduce 注解"
   ]
  },
  {
   "cell_type": "code",
   "execution_count": 89,
   "metadata": {},
   "outputs": [
    {
     "data": {
      "text/plain": [
       "6"
      ]
     },
     "execution_count": 89,
     "metadata": {},
     "output_type": "execute_result"
    }
   ],
   "source": [
    "from functools import reduce\n",
    "reduce(lambda x, y: x+y, [1, 2, 3])"
   ]
  },
  {
   "cell_type": "markdown",
   "metadata": {},
   "source": [
    "* try, except, finally 注解"
   ]
  },
  {
   "cell_type": "code",
   "execution_count": 91,
   "metadata": {
    "scrolled": true
   },
   "outputs": [
    {
     "name": "stdout",
     "output_type": "stream",
     "text": [
      "Wrong\n",
      "finish\n"
     ]
    }
   ],
   "source": [
    "try:\n",
    "    [1,2,3].index('a')\n",
    "except:\n",
    "    print('Wrong')\n",
    "finally:\n",
    "    print('finish')"
   ]
  },
  {
   "cell_type": "markdown",
   "metadata": {},
   "source": [
    "* 函数\n",
    "\n",
    "\n",
    "1. 收集参数\n",
    "2. lambda表达式\n",
    "3. 分文件读取\n",
    "4. partial语句"
   ]
  },
  {
   "cell_type": "code",
   "execution_count": 165,
   "metadata": {},
   "outputs": [
    {
     "name": "stdout",
     "output_type": "stream",
     "text": [
      "(1, 2, 3, 4, 5, 6, 7)\n",
      "{'a': 1, 'b': 2}\n"
     ]
    }
   ],
   "source": [
    "# 1. 收集参数\n",
    "def func(*x):\n",
    "    return x\n",
    "print(func(1, 2, 3, 4, 5, 6, 7))\n",
    "\n",
    "def func(**x):\n",
    "    return x\n",
    "print(func(a = 1, b = 2))"
   ]
  },
  {
   "cell_type": "code",
   "execution_count": 163,
   "metadata": {},
   "outputs": [
    {
     "data": {
      "text/plain": [
       "20"
      ]
     },
     "execution_count": 163,
     "metadata": {},
     "output_type": "execute_result"
    }
   ],
   "source": [
    "# 2. lambda表达式\n",
    "f_2 = lambda x, y: x**2 + y**2\n",
    "f_1 = lambda x: x**2\n",
    "f_2(4, 2)"
   ]
  },
  {
   "cell_type": "code",
   "execution_count": 164,
   "metadata": {},
   "outputs": [
    {
     "data": {
      "text/plain": [
       "20"
      ]
     },
     "execution_count": 164,
     "metadata": {},
     "output_type": "execute_result"
    }
   ],
   "source": [
    "# 3. partial\n",
    "from functools import partial\n",
    "f_3 = partial(f_2, y = 2)\n",
    "f_3(4)"
   ]
  },
  {
   "cell_type": "markdown",
   "metadata": {},
   "source": [
    "* eval, exec 注解"
   ]
  },
  {
   "cell_type": "code",
   "execution_count": 170,
   "metadata": {},
   "outputs": [
    {
     "name": "stdout",
     "output_type": "stream",
     "text": [
      "eval: x+3 = 4\n",
      "exec: y+10 = 13\n"
     ]
    }
   ],
   "source": [
    "x = 1\n",
    "print('eval: x+3 = {0}'.format(eval('x') + 3))\n",
    "exec('y = 3')\n",
    "print('exec: y+10 = {0}'.format(y+10))"
   ]
  },
  {
   "cell_type": "markdown",
   "metadata": {},
   "source": [
    "### Others\n",
    "* ? Zip 转置  <code>tuple(zip(*data))</code>  \n",
    "* ? 两个列表生成dict  <code>dict(zip(a_list, b_list))</code>\n",
    "* ? id & copy (id: 短字符串和整型, copy: list, dict)\n",
    "* ? generator"
   ]
  },
  {
   "cell_type": "markdown",
   "metadata": {},
   "source": [
    "* Python 编程排坑\n",
    "\n",
    "\n",
    "1. b会随着a的变化而变化\n",
    "2. 学会正确的copy"
   ]
  },
  {
   "cell_type": "code",
   "execution_count": 156,
   "metadata": {},
   "outputs": [
    {
     "data": {
      "text/plain": [
       "[1, 2, 3]"
      ]
     },
     "execution_count": 156,
     "metadata": {},
     "output_type": "execute_result"
    }
   ],
   "source": [
    "import copy\n",
    "# dict, numpy array, dataframe\n",
    "a = [1, 2, 3]\n",
    "# method 1\n",
    "b = copy.deepcopy(a)\n",
    "# method 2\n",
    "b = a.copy()\n",
    "a.append(4)\n",
    "b"
   ]
  },
  {
   "cell_type": "markdown",
   "metadata": {},
   "source": [
    "* 拓展：generator 的应用  \n",
    "\n",
    "\n",
    "1. 了解next, yield机制, 每次next将从yield开始执行\n",
    "2. 了解为什么最后一行会报错"
   ]
  },
  {
   "cell_type": "code",
   "execution_count": 133,
   "metadata": {
    "scrolled": false
   },
   "outputs": [
    {
     "name": "stdout",
     "output_type": "stream",
     "text": [
      "0 <generator object <genexpr> at 0x0000000004F220A0>\n",
      "0\n",
      "1\n",
      "4\n",
      "9\n"
     ]
    }
   ],
   "source": [
    "# code1 能否解释输出？\n",
    "a = []\n",
    "a.append((i**2 for i in range(4)))\n",
    "for i,j in enumerate(a):\n",
    "    print(i,j)\n",
    "    for k in j:\n",
    "        print(k)"
   ]
  },
  {
   "cell_type": "code",
   "execution_count": 134,
   "metadata": {},
   "outputs": [],
   "source": [
    "# code2\n",
    "def func(x):\n",
    "    for i in range(x):\n",
    "        yield i"
   ]
  },
  {
   "cell_type": "code",
   "execution_count": 155,
   "metadata": {},
   "outputs": [
    {
     "name": "stdout",
     "output_type": "stream",
     "text": [
      "0\n",
      "[1, 2, 3, 4, 5, 6, 7, 8, 9]\n"
     ]
    },
    {
     "ename": "StopIteration",
     "evalue": "",
     "output_type": "error",
     "traceback": [
      "\u001b[1;31m---------------------------------------------------------------------------\u001b[0m",
      "\u001b[1;31mStopIteration\u001b[0m                             Traceback (most recent call last)",
      "\u001b[1;32m<ipython-input-155-3e782d916e61>\u001b[0m in \u001b[0;36m<module>\u001b[1;34m()\u001b[0m\n\u001b[0;32m      2\u001b[0m \u001b[0mprint\u001b[0m\u001b[1;33m(\u001b[0m\u001b[0mnext\u001b[0m\u001b[1;33m(\u001b[0m\u001b[0mgenerator1\u001b[0m\u001b[1;33m)\u001b[0m\u001b[1;33m)\u001b[0m\u001b[1;33m\u001b[0m\u001b[0m\n\u001b[0;32m      3\u001b[0m \u001b[0mprint\u001b[0m\u001b[1;33m(\u001b[0m\u001b[0mlist\u001b[0m\u001b[1;33m(\u001b[0m\u001b[0mgenerator1\u001b[0m\u001b[1;33m)\u001b[0m\u001b[1;33m)\u001b[0m\u001b[1;33m\u001b[0m\u001b[0m\n\u001b[1;32m----> 4\u001b[1;33m \u001b[0mnext\u001b[0m\u001b[1;33m(\u001b[0m\u001b[0mgenerator1\u001b[0m\u001b[1;33m)\u001b[0m\u001b[1;33m\u001b[0m\u001b[0m\n\u001b[0m",
      "\u001b[1;31mStopIteration\u001b[0m: "
     ]
    }
   ],
   "source": [
    "generator1 = func(10)\n",
    "print(next(generator1))\n",
    "print(list(generator1))\n",
    "# 为什么会报错？\n",
    "next(generator1)"
   ]
  },
  {
   "cell_type": "markdown",
   "metadata": {},
   "source": [
    "### Python object-oriented programming"
   ]
  },
  {
   "cell_type": "markdown",
   "metadata": {},
   "source": [
    "* 了解对象\n",
    "* 了解实例\n",
    "* 了解属性\n",
    "* 了解方法\n",
    "* 会编写简单的类\n",
    "* 会调用类方法和类属性"
   ]
  },
  {
   "cell_type": "markdown",
   "metadata": {},
   "source": [
    "* 基本程序"
   ]
  },
  {
   "cell_type": "code",
   "execution_count": 151,
   "metadata": {},
   "outputs": [],
   "source": [
    "# Mycount 为对象\n",
    "class Mycount(object):\n",
    "    # 对象初始化自动执行\n",
    "    def __init__(self, x):\n",
    "        # 对象中的属性\n",
    "        self.x = x\n",
    "    # 对象中的方法1\n",
    "    def cal(self, y):\n",
    "        return self.x + y\n",
    "    # 对象中的方法2\n",
    "    def cal1(self):\n",
    "        return self.x"
   ]
  },
  {
   "cell_type": "code",
   "execution_count": 154,
   "metadata": {},
   "outputs": [
    {
     "data": {
      "text/plain": [
       "3"
      ]
     },
     "execution_count": 154,
     "metadata": {},
     "output_type": "execute_result"
    }
   ],
   "source": [
    "# 对象实例化，Mycount_1为实例\n",
    "Mycount_1 = Mycount(3)\n",
    "# 调用对象中的方法\n",
    "Mycount_1.cal(5)\n",
    "# 调用对象中的属性\n",
    "Mycount_1.x"
   ]
  },
  {
   "cell_type": "markdown",
   "metadata": {},
   "source": [
    "* 尝试一下能不能看懂下面的代码~，或者做一些改进"
   ]
  },
  {
   "cell_type": "code",
   "execution_count": 149,
   "metadata": {},
   "outputs": [],
   "source": [
    "from collections import Iterable\n",
    "class MyCount(object):\n",
    "    # initialization\n",
    "    def __init__(self, data):\n",
    "        if isinstance(data, Iterable) == True:\n",
    "            self.data = data\n",
    "        else:\n",
    "            print('Wrong Input')\n",
    "\n",
    "    def result(self):\n",
    "        category = list(set(self.data))\n",
    "        count = [self.data.count(i) for i in category]\n",
    "        count_result = dict(zip(category, count))\n",
    "        return count_result"
   ]
  },
  {
   "cell_type": "code",
   "execution_count": 150,
   "metadata": {},
   "outputs": [
    {
     "name": "stdout",
     "output_type": "stream",
     "text": [
      "{'c3': 1, 'c5': 2, 'c4': 1}\n",
      "['c3', 'c4', 'c5', 'c5']\n"
     ]
    }
   ],
   "source": [
    "Test = MyCount(['c'+str(i) for i in [3,4,5]] + ['c5'])\n",
    "print(Test.result())\n",
    "print(Test.data)"
   ]
  }
 ],
 "metadata": {
  "kernelspec": {
   "display_name": "Python 3",
   "language": "python",
   "name": "python3"
  },
  "language_info": {
   "codemirror_mode": {
    "name": "ipython",
    "version": 3
   },
   "file_extension": ".py",
   "mimetype": "text/x-python",
   "name": "python",
   "nbconvert_exporter": "python",
   "pygments_lexer": "ipython3",
   "version": "3.6.5"
  }
 },
 "nbformat": 4,
 "nbformat_minor": 2
}

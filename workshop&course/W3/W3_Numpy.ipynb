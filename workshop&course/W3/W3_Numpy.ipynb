{
 "cells": [
  {
   "cell_type": "code",
   "execution_count": 2,
   "metadata": {},
   "outputs": [
    {
     "data": {
      "text/plain": [
       "[2, 3, 4]"
      ]
     },
     "execution_count": 2,
     "metadata": {},
     "output_type": "execute_result"
    }
   ],
   "source": [
    "a = [1, 2, 3]\n",
    "list(map(lambda x:x+1, a))\n",
    "list(filter(lambda x: x>1, a))"
   ]
  },
  {
   "cell_type": "code",
   "execution_count": 4,
   "metadata": {},
   "outputs": [
    {
     "data": {
      "text/plain": [
       "array([2, 3, 4])"
      ]
     },
     "execution_count": 4,
     "metadata": {},
     "output_type": "execute_result"
    }
   ],
   "source": [
    "import numpy as np\n",
    "a = np.array([1, 2, 3])\n",
    "a + 1\n",
    "a[a>1]\n",
    "a[[False, True, True]]"
   ]
  },
  {
   "cell_type": "markdown",
   "metadata": {},
   "source": [
    "## Numpy Tutorial"
   ]
  },
  {
   "cell_type": "markdown",
   "metadata": {},
   "source": [
    "### Summary\n",
    "1. 认识数组\n",
    "1. 创建数组\n",
    "2. 数组的保存\n",
    "4. 数组索引, 赋值\n",
    "2. 数组运算\n",
    "5. 数组形状操作\n",
    "6. 数组排序\n",
    "7. 其它"
   ]
  },
  {
   "cell_type": "code",
   "execution_count": 3,
   "metadata": {},
   "outputs": [],
   "source": [
    "# import package\n",
    "import numpy as np"
   ]
  },
  {
   "cell_type": "markdown",
   "metadata": {},
   "source": [
    "### 1. 认识数组"
   ]
  },
  {
   "cell_type": "code",
   "execution_count": 10,
   "metadata": {},
   "outputs": [
    {
     "name": "stdout",
     "output_type": "stream",
     "text": [
      "data \n",
      " [[0 5 3 4 0 4 7 9 9 0]\n",
      " [7 1 9 6 2 1 4 4 6 7]\n",
      " [6 2 8 1 2 9 7 3 8 8]\n",
      " [7 8 0 4 1 2 4 7 2 3]\n",
      " [8 5 9 7 0 1 1 8 6 3]\n",
      " [0 7 8 6 3 9 0 2 4 9]\n",
      " [1 0 4 4 5 1 2 4 9 4]\n",
      " [4 7 4 2 1 0 4 6 9 9]\n",
      " [1 4 8 4 4 2 5 6 1 8]\n",
      " [7 1 7 1 5 6 1 0 8 7]]\n",
      "shape  (10, 100)\n",
      "dim  2\n",
      "size 1000\n",
      "\n",
      "float64\n",
      "int32\n",
      "\n",
      "Length of one array element in bytes 4\n",
      "Total bytes consumed by array 4000\n",
      "\n",
      "one dim array \n",
      " [0 5 3 4 0 4 7 9 9 0 8 8 7 3 1 3 9 6 8 6]\n",
      "ravel \n",
      " [0 5 3 4 0 4 7 9 9 0 8 8 7 3 1 3 9 6 8 6]\n",
      "\n",
      "real \n",
      " [[1. 2.]\n",
      " [2. 1.]]\n",
      "imag \n",
      " [[1. 3.]\n",
      " [1. 3.]]\n"
     ]
    }
   ],
   "source": [
    "data = np.random.randint(0, 10, (10, 100))\n",
    "print('data \\n',data[:10, :10])\n",
    "# basic\n",
    "print('shape ', data.shape)\n",
    "print('dim ', data.ndim)\n",
    "print('size', data.size)\n",
    "print()\n",
    "# dtype, astype\n",
    "newdata = np.array([3, 2, 1])\n",
    "newdata.itemsize\n",
    "print(newdata.astype(float).dtype)\n",
    "print(newdata[0].dtype)\n",
    "print()\n",
    "# length of array\n",
    "print('Length of one array element in bytes', data.itemsize)\n",
    "print('Total bytes consumed by array', data.nbytes)\n",
    "print()\n",
    "# one-dim array\n",
    "print('one dim array \\n', data.flat[:20])\n",
    "# ravel\n",
    "print('ravel \\n', data.ravel()[:20])\n",
    "print()\n",
    "# complex number\n",
    "newdata = np.array([[1 + 1j, 2 + 3j], [2 + 1j, 1 + 3j]])\n",
    "print('real \\n', newdata.real)\n",
    "print('imag \\n', newdata.imag)"
   ]
  },
  {
   "cell_type": "markdown",
   "metadata": {},
   "source": [
    "### 2. 创建数组"
   ]
  },
  {
   "cell_type": "code",
   "execution_count": 11,
   "metadata": {
    "scrolled": false
   },
   "outputs": [
    {
     "name": "stdout",
     "output_type": "stream",
     "text": [
      "np.zeros str \n",
      " [['' '' '']\n",
      " ['' '' '']]\n",
      "np.zeros float \n",
      " [[0. 0. 0.]\n",
      " [0. 0. 0.]]\n",
      "np.full \n",
      " [[5 5 5]\n",
      " [5 5 5]]\n",
      "np.ones \n",
      " [['1' '1' '1']\n",
      " ['1' '1' '1']]\n",
      "np.eye \n",
      " [[1. 0. 0. 0. 0.]\n",
      " [0. 1. 0. 0. 0.]\n",
      " [0. 0. 1. 0. 0.]\n",
      " [0. 0. 0. 1. 0.]\n",
      " [0. 0. 0. 0. 1.]]\n",
      "np.diag \n",
      " [[1 0 0]\n",
      " [0 2 0]\n",
      " [0 0 3]]\n",
      "diag, k = 1, k = -1  [9 9] [6] [8]\n",
      "np.unique  [0 1 2 3 4 5 6 7 8 9]\n",
      "np.arange \n",
      " [ 0.  2.  4.  6.  8. 10.]\n",
      "np.linspace \n",
      " [ 0.   0.5  1.   1.5  2.   2.5  3.   3.5  4.   4.5  5.   5.5  6.   6.5\n",
      "  7.   7.5  8.   8.5  9.   9.5 10. ]\n",
      "np.random.rand \n",
      " [[[0.88946333 0.72265327]\n",
      "  [0.14079697 0.50378047]\n",
      "  [0.63402969 0.20949976]]\n",
      "\n",
      " [[0.17946705 0.09762366]\n",
      "  [0.18622437 0.46151826]\n",
      "  [0.52275169 0.19444979]]]\n",
      "np.random.random \n",
      " [[[0.81253852 0.85648621]\n",
      "  [0.57798326 0.05254266]\n",
      "  [0.02217446 0.97442324]]\n",
      "\n",
      " [[0.95400515 0.9575385 ]\n",
      "  [0.08823065 0.42582937]\n",
      "  [0.40208005 0.66335049]]]\n",
      "np.random.randint \n",
      " [[2 0 1]\n",
      " [6 3 2]]\n",
      "np.random.randn \n",
      " [[ 0.70039375  0.81745469  1.28394021]\n",
      " [-0.78538221 -0.26689592 -0.39704799]]\n",
      "np.random.normal \n",
      " [[-4.290841    4.72668894 -2.7206112 ]\n",
      " [ 0.77237489 -1.57886296  1.17407733]]\n",
      "np.fromfunction \n",
      " [[[0. 1. 2.]\n",
      "  [1. 2. 3.]\n",
      "  [2. 3. 4.]]\n",
      "\n",
      " [[1. 2. 3.]\n",
      "  [2. 3. 4.]\n",
      "  [3. 4. 5.]]\n",
      "\n",
      " [[2. 3. 4.]\n",
      "  [3. 4. 5.]\n",
      "  [4. 5. 6.]]]\n"
     ]
    }
   ],
   "source": [
    "print('np.zeros str \\n', np.zeros((2,3), str))\n",
    "print('np.zeros float \\n', np.zeros((2,3), float))\n",
    "print('np.full \\n', np.full((2, 3), 5))\n",
    "print('np.ones \\n', np.ones((2,3), str))\n",
    "print('np.eye \\n', np.eye(5))\n",
    "# diag\n",
    "newdata = np.random.randint(0, 10, (2,2))\n",
    "print('np.diag \\n', np.diag([1, 2, 3]))\n",
    "print('diag, k = 1, k = -1 ', np.diag(newdata), np.diag(newdata, k = 1), np.diag(newdata, k = -1))\n",
    "# unique\n",
    "print('np.unique ', np.unique(data))\n",
    "print('np.arange \\n', np.arange(0, 10.001, 2))\n",
    "print('np.linspace \\n', np.linspace(0, 10, 21))\n",
    "# uniform distribution\n",
    "print('np.random.rand \\n', np.random.rand(2, 3, 2))\n",
    "print('np.random.random \\n', np.random.random((2, 3, 2)))\n",
    "print('np.random.randint \\n', np.random.randint(0, 10, (2,3)))\n",
    "# standard normal distribution\n",
    "print('np.random.randn \\n', np.random.randn(2,3))\n",
    "# normal distribution\n",
    "print('np.random.normal \\n', np.random.normal(0, 2, (2,3)))\n",
    "# generate with function\n",
    "print('np.fromfunction \\n', np.fromfunction(lambda i, j, k: i + j + k, (3, 3, 3)))"
   ]
  },
  {
   "cell_type": "markdown",
   "metadata": {},
   "source": [
    "### 3. 数组的保存"
   ]
  },
  {
   "cell_type": "code",
   "execution_count": 188,
   "metadata": {},
   "outputs": [],
   "source": [
    "# saved_array.npy\n",
    "np.save('saved_array', data)\n",
    "testdata = np.load('saved_array.npy')"
   ]
  },
  {
   "cell_type": "markdown",
   "metadata": {},
   "source": [
    "### 4. 数组索引, 赋值"
   ]
  },
  {
   "cell_type": "code",
   "execution_count": 12,
   "metadata": {
    "scrolled": false
   },
   "outputs": [
    {
     "name": "stdout",
     "output_type": "stream",
     "text": [
      "10 rows and 10 cols from data \n",
      " [[9 5 0 1 3]\n",
      " [0 1 1 3 9]\n",
      " [7 8 6 6 1]\n",
      " [3 7 9 2 4]\n",
      " [3 8 9 2 1]]\n",
      "10 rows and 10 cols from data \n",
      " [[0 0 0 0 0]\n",
      " [0 0 0 0 0]\n",
      " [0 0 0 0 0]\n",
      " [0 0 0 0 0]\n",
      " [0 0 0 0 0]]\n",
      "Original array \n",
      " [[0 5]\n",
      " [4 4]]\n",
      "General \n",
      " [[5]\n",
      " [4]]\n",
      "Special \n",
      " [4 4]\n",
      "original \n",
      " [[0 5]\n",
      " [4 4]]\n",
      "append axis = 0 \n",
      " [[0 5]\n",
      " [4 4]\n",
      " [1 2]]\n",
      "append axis = 1 \n",
      " [[0 5 1]\n",
      " [4 4 2]]\n",
      "insert between first col and second col \n",
      " [[1 0 5]\n",
      " [2 4 4]]\n",
      "insert between first row and second row \n",
      " [[0 5]\n",
      " [1 2]\n",
      " [4 4]]\n",
      "np.vstack(test1, test2) \n",
      " [[6 9]\n",
      " [7 0]\n",
      " [4 6]\n",
      " [8 3]]\n",
      "np.hstack(test1, test2) \n",
      " [[6 9 4 6]\n",
      " [7 0 8 3]]\n",
      "np.concatenate \n",
      " [0 1 2 3 4 5 6 7 8 9]\n",
      "np.c_ \n",
      " [[1 4]\n",
      " [2 5]\n",
      " [3 6]]\n",
      "np.r_ \n",
      " [1 2 3 4 5 6]\n",
      "newdata[newdata>3] \n",
      " [5 4 4]\n",
      "[[0 0]\n",
      " [0 0]]\n",
      "[[1 7 2 7 1]\n",
      " [9 0 9 0 8]\n",
      " [4 7 9 0 6]\n",
      " [9 9 2 2 8]\n",
      " [2 8 2 8 0]]\n",
      "np.array_split \n",
      " [array([[1, 7, 2],\n",
      "       [9, 0, 9],\n",
      "       [4, 7, 9],\n",
      "       [9, 9, 2],\n",
      "       [2, 8, 2]]), array([[7, 1],\n",
      "       [0, 8],\n",
      "       [0, 6],\n",
      "       [2, 8],\n",
      "       [8, 0]])]\n"
     ]
    }
   ],
   "source": [
    "# slice\n",
    "data = np.random.randint(0, 10, (10, 100))\n",
    "print('10 rows and 10 cols from data \\n', data[:5, :5])\n",
    "data[:5, :5] = 0\n",
    "print('10 rows and 10 cols from data \\n', data[:5, :5])\n",
    "\n",
    "# delete\n",
    "newdata = np.random.randint(0, 10, (2,2))\n",
    "print('Original array \\n', newdata)\n",
    "print('General \\n', np.delete(newdata, [0], axis = 1))\n",
    "print('Special \\n', np.delete(newdata, [0, 1]))\n",
    "\n",
    "# append\n",
    "print('original \\n', newdata)\n",
    "print('append axis = 0 \\n', np.append(newdata, [[1, 2]], axis = 0))\n",
    "print('append axis = 1 \\n', np.append(newdata, [[1], [2]], axis = 1))\n",
    "# insert\n",
    "print('insert between first col and second col \\n', np.insert(newdata, 0, [1, 2], axis = 1))\n",
    "print('insert between first row and second row \\n', np.insert(newdata, 1, [1, 2], axis = 0))\n",
    "\n",
    "# vstack, hstack\n",
    "test1 = np.random.randint(0, 10, (2, 2))\n",
    "test2 = np.random.randint(0, 10, (2, 2))\n",
    "print('np.vstack(test1, test2) \\n', np.vstack((test1, test2)))\n",
    "print('np.hstack(test1, test2) \\n', np.hstack((test1, test2)))\n",
    "# concatenate\n",
    "Z1 = np.arange(3)\n",
    "Z2 = np.arange(3,7, 1)\n",
    "Z3 = np.arange(7,10, 1)\n",
    "Z = np.array([Z1, Z2, Z3])\n",
    "# pd.concat\n",
    "print('np.concatenate \\n', np.concatenate(Z))\n",
    "# c_, r_\n",
    "M1 = np.array([1, 2, 3])\n",
    "M2 = np.array([4, 5, 6])\n",
    "print('np.c_ \\n', np.c_[M1, M2])\n",
    "print('np.r_ \\n', np.r_[M1, M2])\n",
    "\n",
    "# conditional index\n",
    "print('newdata[newdata>3] \\n', newdata[newdata>3])\n",
    "newdata[newdata>3] = 0\n",
    "print(newdata)\n",
    "\n",
    "# split\n",
    "A = np.random.randint(0, 10, (5, 5))\n",
    "print(A)\n",
    "print('np.array_split \\n', np.array_split(A, 2, axis = 1))"
   ]
  },
  {
   "cell_type": "markdown",
   "metadata": {},
   "source": [
    "### 5. 数组运算"
   ]
  },
  {
   "cell_type": "code",
   "execution_count": 400,
   "metadata": {},
   "outputs": [
    {
     "name": "stdout",
     "output_type": "stream",
     "text": [
      "The elements that are both in x and y: [2 4]\n",
      "The elements that are in x that are not in y: [1 3]\n",
      "All the elements of x and y: [1 2 3 4 7 9]\n",
      "np.dot \n",
      " [[12 19]\n",
      " [19 28]]\n",
      "np.mat \n",
      " [[12 19]\n",
      " [19 28]]\n",
      "transpose matrix \n",
      " [[1 2]\n",
      " [2 3]\n",
      " [3 4]]\n",
      "inverse matrix \n",
      " [[ 0.8 -0.2]\n",
      " [-0.6  0.4]]\n",
      "A + B \n",
      " [[2 4 6]\n",
      " [3 5 7]]\n",
      "A + C \n",
      " [[2 3 4]\n",
      " [4 5 6]]\n",
      "np.ceil \n",
      " [[ 3. -0. -1.]\n",
      " [ 1.  1. -1.]\n",
      " [ 1. -0. -1.]]\n",
      "np.floor \n",
      " [[ 2. -1. -2.]\n",
      " [ 0.  0. -2.]\n",
      " [ 0. -1. -2.]]\n",
      "np.trunc \n",
      " [[ 2. -0. -1.]\n",
      " [ 0.  0. -1.]\n",
      " [ 0. -0. -1.]]\n",
      "original \n",
      " [7 7 2 9 3 5 9 5 0 3 2 7 2 6 3 6 2 7 9 1 4 6 9 4 0 8 0 7 0 6 9 8 4 8 5 0 6\n",
      " 0 1 7 5 1 0 0 1 8 5 4 2 0]\n",
      "np.bincount \n",
      " [9 4 5 3 4 5 5 6 4 5]\n",
      "np.percentile \n",
      " [0.  4.5 7. ]\n",
      "eignvalue \n",
      " [ 1.61168440e+01 -1.11684397e+00 -9.75918483e-16]\n",
      "eignvector \n",
      " [[-0.23197069 -0.78583024  0.40824829]\n",
      " [-0.52532209 -0.08675134 -0.81649658]\n",
      " [-0.8186735   0.61232756  0.40824829]]\n",
      "Euler distaance \n",
      " 1.7320508075688772\n",
      "correlation matrix \n",
      " [[1.         0.69646468 0.99553028]\n",
      " [0.69646468 1.         0.62558032]\n",
      " [0.99553028 0.62558032 1.        ]]\n",
      "np.diff \n",
      " [[-3.39946997 -0.50623451]\n",
      " [-0.33681799 -2.10870345]\n",
      " [-1.85266648 -0.05399562]]\n",
      "np.cumsum \n",
      " [ 2.59345499  1.78744002  0.47519054  1.15594406  1.4998796  -0.26488832\n",
      "  0.60830327 -0.37117161 -1.40464212]\n",
      "[0.9784 0.09   0.8539 0.6647 0.7696 0.2308 0.8124 0.3317 0.7401 0.1174]\n",
      "[9.7840e-05 9.0008e-06 8.5387e-05 6.6469e-05 7.6963e-05 2.3080e-05\n",
      " 8.1235e-05 3.3166e-05 7.4009e-05 1.1736e-05]\n"
     ]
    }
   ],
   "source": [
    "# array + - * /\n",
    "# array + 3\n",
    "# array + array same shape\n",
    "\n",
    "# set operators\n",
    "x = np.array([1, 2, 3, 4])\n",
    "y = np.array([2, 4, 7, 9])\n",
    "print('The elements that are both in x and y:', np.intersect1d(x,y))\n",
    "print('The elements that are in x that are not in y:', np.setdiff1d(x,y))\n",
    "print('All the elements of x and y:',np.union1d(x,y))\n",
    "\n",
    "# dot\n",
    "A = np.array([[1, 2, 3], [2, 3, 4]])\n",
    "B = np.array([[3, 2], [3, 4], [1, 3]])\n",
    "print('np.dot \\n', np.dot(A, B))\n",
    "print('np.mat \\n', np.mat(A) * np.mat(B))\n",
    "\n",
    "# .T .inv\n",
    "print('transpose matrix \\n', A.T)\n",
    "# inverse\n",
    "print('inverse matrix \\n', np.linalg.inv(np.array([[2,1], [3,4]])))\n",
    "\n",
    "# sin, exp, sqrt, power, median, mean, average, var, std\n",
    "np.sin(A)\n",
    "np.exp(A)\n",
    "np.sqrt(A)\n",
    "np.power(A, 2)\n",
    "np.sum(A)\n",
    "np.median(A)\n",
    "np.mean(A)\n",
    "np.average(A)\n",
    "np.var(A)\n",
    "np.std(A, axis = 0)\n",
    "\n",
    "# add different size\n",
    "A = np.array([[1, 2, 3], [2, 3, 4]])\n",
    "B = np.array([1, 2, 3])\n",
    "C = np.array([1, 2])\n",
    "print('A + B \\n', np.add(A, B))\n",
    "print('A + C \\n', np.add(A.T, C).T)\n",
    "\n",
    "# min, max, argmin, argmax\n",
    "np.max(A, axis = 0)\n",
    "np.max(A, axis = 1)\n",
    "np.min(A, axis = 0)\n",
    "np.min(A, axis = 1)\n",
    "np.argmax(A, axis = 0)\n",
    "np.argmax(A, axis = 1)\n",
    "np.argmin(A, axis = 0)\n",
    "np.argmin(A, axis = 1)\n",
    "\n",
    "# transform to int: ceil floor int\n",
    "D = np.random.randn(3,3)\n",
    "print('np.ceil \\n', np.ceil(D))\n",
    "print('np.floor \\n', np.floor(D))\n",
    "# truncate\n",
    "print('np.trunc \\n', np.trunc(D)) # = floor\n",
    "\n",
    "# bincount\n",
    "A = np.random.randint(0, 10, 50)\n",
    "print('original \\n', A)\n",
    "print('np.bincount \\n', np.bincount(A))\n",
    "\n",
    "# np.percentile\n",
    "print('np.percentile \\n', np.percentile(A, q = [10, 50, 80]))\n",
    "\n",
    "# eignvalue and eignvector\n",
    "M = np.matrix([[1,2,3], [4,5,6], [7,8,9]])\n",
    "w, v = np.linalg.eig(M)\n",
    "print('eignvalue \\n', w)\n",
    "print('eignvector \\n', v)\n",
    "\n",
    "# distance Euler\n",
    "a = np.array([2,3,4])\n",
    "b = np.array([1,2,3])\n",
    "print('Euler distaance \\n', np.linalg.norm(b-a, 2))\n",
    "\n",
    "# correlation matrix\n",
    "print('correlation matrix \\n', np.corrcoef(D))\n",
    "\n",
    "# diff\n",
    "print('np.diff \\n', np.diff(D))\n",
    "\n",
    "# cum sum\n",
    "print('np.cumsum \\n', np.cumsum(D))"
   ]
  },
  {
   "cell_type": "markdown",
   "metadata": {},
   "source": [
    "### 6. 数组形状操作"
   ]
  },
  {
   "cell_type": "code",
   "execution_count": 376,
   "metadata": {
    "scrolled": true
   },
   "outputs": [
    {
     "name": "stdout",
     "output_type": "stream",
     "text": [
      "np.reshape \n",
      " [[1 2 3]\n",
      " [2 3 4]] \n",
      " [[1 2]\n",
      " [3 2]\n",
      " [3 4]]\n",
      "np.resize \n",
      " [[1 2]\n",
      " [3 2]\n",
      " [3 4]]\n"
     ]
    }
   ],
   "source": [
    "print('np.reshape \\n', np.array([[1, 2, 3], [2, 3, 4]]), '\\n',\\\n",
    "                       np.array([[1, 2, 3], [2, 3, 4]]).reshape(3,2))\n",
    "A = np.array([[1,2,3], [2,3,4]])\n",
    "print('np.resize \\n', np.resize(A, (3,2)))"
   ]
  },
  {
   "cell_type": "markdown",
   "metadata": {},
   "source": [
    "### 7. 数组排序"
   ]
  },
  {
   "cell_type": "code",
   "execution_count": 464,
   "metadata": {},
   "outputs": [
    {
     "name": "stdout",
     "output_type": "stream",
     "text": [
      "before sort：\n",
      " [[9 5 9 9 7]\n",
      " [3 8 7 1 7]\n",
      " [8 7 4 3 0]\n",
      " [6 5 9 4 1]\n",
      " [2 7 1 1 6]]\n",
      "after sort: \n",
      " [[2 7 1 1 6]\n",
      " [8 7 4 3 0]\n",
      " [3 8 7 1 7]\n",
      " [9 5 9 9 7]\n",
      " [6 5 9 4 1]]\n"
     ]
    },
    {
     "data": {
      "text/plain": [
       "array([[2, 5, 1, 1, 0],\n",
       "       [3, 5, 4, 1, 1],\n",
       "       [6, 7, 7, 3, 6],\n",
       "       [8, 7, 9, 4, 7],\n",
       "       [9, 8, 9, 9, 7]])"
      ]
     },
     "execution_count": 464,
     "metadata": {},
     "output_type": "execute_result"
    }
   ],
   "source": [
    "# sort by the thrid col\n",
    "Z = np.random.randint(0,10,(5,5))\n",
    "print(\"before sort：\\n\",Z)\n",
    "print('after sort: \\n', Z[Z[:,2].argsort()])\n",
    "# Z[[1,2,3,0,4]]\n",
    "\n",
    "# sort\n",
    "np.sort(Z, axis = 0)"
   ]
  },
  {
   "cell_type": "markdown",
   "metadata": {},
   "source": [
    "### 8. 其它"
   ]
  },
  {
   "cell_type": "code",
   "execution_count": 467,
   "metadata": {},
   "outputs": [
    {
     "name": "stdout",
     "output_type": "stream",
     "text": [
      "yesterday:  2018-09-03\n",
      "today:  2018-09-04\n",
      "tomorrow:  2018-09-05\n",
      "[0.9327 0.0715 0.4973 0.7787 0.4929 0.8227 0.1785 0.4569 0.007  0.764 ]\n",
      "[9.3272e-05 7.1473e-06 4.9733e-05 7.7868e-05 4.9286e-05 8.2265e-05\n",
      " 1.7852e-05 4.5691e-05 7.0221e-07 7.6400e-05]\n",
      "[[0 5 9]\n",
      " [9 6 1]]\n",
      "np.nonzero \n",
      " (array([0, 0, 1, 1, 1], dtype=int64), array([1, 2, 0, 1, 2], dtype=int64))\n",
      "np.random.choice \n",
      " [6 3 5]\n",
      "np.isnan \n",
      " [[False  True  True False False False False False False False]\n",
      " [False False False False False False False False False False]\n",
      " [False False False False False False False False False False]\n",
      " [ True False False False False False False False False False]\n",
      " [False  True False False False False False False False False]]\n",
      "np.where \n",
      " (array([0, 0, 3, 4], dtype=int64), array([1, 2, 0, 1], dtype=int64))\n",
      "original A \n",
      " [[0.5801    nan    nan 0.7655 0.4668 0.0767 0.5195 0.5405 0.407  0.2675]\n",
      " [0.4175 0.0645 0.3869 0.6315 0.0686 0.2524 0.2088 0.7066 0.0272 0.4488]\n",
      " [0.8253 0.5084 0.5157 0.9629 0.4903 0.6371 0.6657 0.5096 0.4835 0.9072]\n",
      " [   nan 0.3055 0.1799 0.5088 0.785  0.346  0.3018 0.9918 0.9926 0.8455]\n",
      " [0.4611    nan 0.4112 0.4484 0.3075 0.1114 0.3786 0.284  0.7749 0.3072]]\n",
      "drop based on row \n",
      " [[0.4175 0.0645 0.3869 0.6315 0.0686 0.2524 0.2088 0.7066 0.0272 0.4488]\n",
      " [0.8253 0.5084 0.5157 0.9629 0.4903 0.6371 0.6657 0.5096 0.4835 0.9072]]\n",
      "drop based on column \n",
      " [[0.7655 0.6315 0.9629 0.5088 0.4484]\n",
      " [0.4668 0.0686 0.4903 0.785  0.3075]\n",
      " [0.0767 0.2524 0.6371 0.346  0.1114]\n",
      " [0.5195 0.2088 0.6657 0.3018 0.3786]\n",
      " [0.5405 0.7066 0.5096 0.9918 0.284 ]\n",
      " [0.407  0.0272 0.4835 0.9926 0.7749]\n",
      " [0.2675 0.4488 0.9072 0.8455 0.3072]]\n"
     ]
    }
   ],
   "source": [
    "# date\n",
    "yesterday = np.datetime64('today', 'D') - np.timedelta64(1, 'D')\n",
    "today = np.datetime64('today', 'D')\n",
    "tomorrow  = np.datetime64('today', 'D') + np.timedelta64(1, 'D')\n",
    "print(\"yesterday: \", yesterday)\n",
    "print(\"today: \", today)\n",
    "print(\"tomorrow: \", tomorrow)\n",
    "\n",
    "# set precision\n",
    "A = np.random.rand(10)\n",
    "np.set_printoptions(precision=4)\n",
    "print(A)\n",
    "print(A/1e4)\n",
    "\n",
    "# nonzero, return non zero index\n",
    "A = np.random.randint(0,10, (2,3))\n",
    "print(A)\n",
    "print('np.nonzero \\n', np.nonzero(A))\n",
    "\n",
    "# np.random.choice\n",
    "print('np.random.choice \\n', np.random.choice(np.array([1,2,3,4,5,6]), 3, replace = False))\n",
    "\n",
    "# np.isnan, np.where\n",
    "A = np.array([np.random.rand(10) for i in range(5)])\n",
    "A[np.random.randint(0,5,4), np.random.randint(0,5,4)] = np.nan\n",
    "# judge wether nan exist\n",
    "print('np.isnan \\n', np.isnan(A))\n",
    "# find index of nan\n",
    "print('np.where \\n', np.where(np.isnan(A)))\n",
    "# drop nan value based on row\n",
    "print('original A \\n', A)\n",
    "print('drop based on row \\n', A[np.sum(np.isnan(A), axis=1) == 0])\n",
    "print('drop based on column \\n', A.T[np.sum(np.isnan(A), axis=0) == 0])"
   ]
  }
 ],
 "metadata": {
  "kernelspec": {
   "display_name": "Python 3",
   "language": "python",
   "name": "python3"
  },
  "language_info": {
   "codemirror_mode": {
    "name": "ipython",
    "version": 3
   },
   "file_extension": ".py",
   "mimetype": "text/x-python",
   "name": "python",
   "nbconvert_exporter": "python",
   "pygments_lexer": "ipython3",
   "version": "3.6.5"
  }
 },
 "nbformat": 4,
 "nbformat_minor": 2
}
